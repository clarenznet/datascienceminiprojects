{
  "nbformat": 4,
  "nbformat_minor": 0,
  "metadata": {
    "colab": {
      "name": "Sampleqrserialsplitter.ipynb",
      "provenance": [],
      "authorship_tag": "ABX9TyN3Px4NNMt1zYqWh8NTs2cZ",
      "include_colab_link": true
    },
    "kernelspec": {
      "name": "python3",
      "display_name": "Python 3"
    }
  },
  "cells": [
    {
      "cell_type": "markdown",
      "metadata": {
        "id": "view-in-github",
        "colab_type": "text"
      },
      "source": [
        "<a href=\"https://colab.research.google.com/github/clarenznet/datascienceminiprojects/blob/main/Sampleqrserialsplitter.ipynb\" target=\"_parent\"><img src=\"https://colab.research.google.com/assets/colab-badge.svg\" alt=\"Open In Colab\"/></a>"
      ]
    },
    {
      "cell_type": "markdown",
      "metadata": {
        "id": "XXbCbpKzJ5Rr"
      },
      "source": [
        "**Sample QR serials splitter with python**"
      ]
    },
    {
      "cell_type": "markdown",
      "metadata": {
        "id": "opxV2rjCKz7r"
      },
      "source": [
        "*seeking authorization*"
      ]
    },
    {
      "cell_type": "code",
      "metadata": {
        "id": "k1fY3uBdKAFz"
      },
      "source": [
        "from google.colab import auth\r\n",
        "auth.authenticate_user()\r\n",
        "import gspread\r\n",
        "from oauth2client.client import GoogleCredentials\r\n",
        "gc = gspread.authorize(GoogleCredentials.get_application_default())"
      ],
      "execution_count": null,
      "outputs": []
    },
    {
      "cell_type": "markdown",
      "metadata": {
        "id": "N8-wrCFLK8sR"
      },
      "source": [
        "*starting to import libraries*\r\n"
      ]
    },
    {
      "cell_type": "code",
      "metadata": {
        "id": "zrZU_MjrKxvk"
      },
      "source": [
        "import pandas as pd\r\n",
        "import matplotlib.pyplot as plt"
      ],
      "execution_count": null,
      "outputs": []
    },
    {
      "cell_type": "markdown",
      "metadata": {
        "id": "pttiGJeT7Amh"
      },
      "source": [
        "*getting data from sheets now*"
      ]
    },
    {
      "cell_type": "code",
      "metadata": {
        "colab": {
          "base_uri": "https://localhost:8080/",
          "height": 456
        },
        "id": "6wF8oOxy7Gg8",
        "outputId": "b1a1b575-04cc-42f5-ad45-1e60ee0ce791"
      },
      "source": [
        "#using url \r\n",
        "wb = gc.open_by_url('https://docs.google.com/spreadsheets/d/1OhW3nomBlPLKP4P2cZ58qXYbRl7tl9HUz3Vg81IwsKU/edit#gid=0')\r\n",
        "\r\n",
        "sheet = wb.worksheet('PCBQRCODES')\r\n",
        "data = sheet.get_all_values()\r\n",
        "df = pd.DataFrame(data)\r\n",
        "df.columns = df.iloc[0]\r\n",
        "df = df.iloc[1:]\r\n",
        "df.head()\r\n"
      ],
      "execution_count": null,
      "outputs": [
        {
          "output_type": "stream",
          "text": [
            "0 Idnumber                                             Serial\n",
            "1      124  P/N:S2-10686-Z1L1E;SN:MP061851297D10F;IMEI:867...\n",
            "2      251  P/N:S2-10686-Z1L1E;SN:MP061845263EF75;IMEI:869...\n",
            "3      255  P/N:S2-10686-Z1L1E;SN:MP0618512978F71;IMEI:867...\n",
            "4      988  P/N:S2-10686-Z1L1D;SN:MP0619132DE37D2;IMEI:862...\n",
            "5      555  P/N:S2-10686-Z1L1E;SN:MP0618452641134;IMEI:869...\n",
            "6      895  P/N:S2-10686-Z1L1E;SN:MP0618452641134;IMEI:869...\n"
          ],
          "name": "stdout"
        },
        {
          "output_type": "execute_result",
          "data": {
            "text/html": [
              "<div>\n",
              "<style scoped>\n",
              "    .dataframe tbody tr th:only-of-type {\n",
              "        vertical-align: middle;\n",
              "    }\n",
              "\n",
              "    .dataframe tbody tr th {\n",
              "        vertical-align: top;\n",
              "    }\n",
              "\n",
              "    .dataframe thead th {\n",
              "        text-align: right;\n",
              "    }\n",
              "</style>\n",
              "<table border=\"1\" class=\"dataframe\">\n",
              "  <thead>\n",
              "    <tr style=\"text-align: right;\">\n",
              "      <th></th>\n",
              "      <th>Idnumber</th>\n",
              "      <th>Serial</th>\n",
              "      <th>PN</th>\n",
              "      <th>SN</th>\n",
              "      <th>IMEI</th>\n",
              "      <th>BTMAC</th>\n",
              "      <th>SW</th>\n",
              "    </tr>\n",
              "  </thead>\n",
              "  <tbody>\n",
              "    <tr>\n",
              "      <th>1</th>\n",
              "      <td>124</td>\n",
              "      <td>P/N:S2-10686-Z1L1E;SN:MP061851297D10F;IMEI:867...</td>\n",
              "      <td>P/N:S2-10686-Z1L1E</td>\n",
              "      <td>SN:MP061851297D10F</td>\n",
              "      <td>IMEI:867157046236543</td>\n",
              "      <td>BTMAC:48E6C0038CF2</td>\n",
              "      <td>SW:1418B08SIM800C24_BT</td>\n",
              "    </tr>\n",
              "    <tr>\n",
              "      <th>2</th>\n",
              "      <td>251</td>\n",
              "      <td>P/N:S2-10686-Z1L1E;SN:MP061845263EF75;IMEI:869...</td>\n",
              "      <td>P/N:S2-10686-Z1L1E</td>\n",
              "      <td>SN:MP061845263EF75</td>\n",
              "      <td>IMEI:869270046435953</td>\n",
              "      <td>BTMAC:381C4A879CE7</td>\n",
              "      <td>SW:1418B08SIM800C24_BT</td>\n",
              "    </tr>\n",
              "    <tr>\n",
              "      <th>3</th>\n",
              "      <td>255</td>\n",
              "      <td>P/N:S2-10686-Z1L1E;SN:MP0618512978F71;IMEI:867...</td>\n",
              "      <td>P/N:S2-10686-Z1L1E</td>\n",
              "      <td>SN:MP0618512978F71</td>\n",
              "      <td>IMEI:867157046068565</td>\n",
              "      <td>BTMAC:48E6C0034B54</td>\n",
              "      <td>SW:1418B08SIM800C24_BT</td>\n",
              "    </tr>\n",
              "    <tr>\n",
              "      <th>4</th>\n",
              "      <td>988</td>\n",
              "      <td>P/N:S2-10686-Z1L1D;SN:MP0619132DE37D2;IMEI:862...</td>\n",
              "      <td>P/N:S2-10686-Z1L1D</td>\n",
              "      <td>SN:MP0619132DE37D2</td>\n",
              "      <td>IMEI:862273040119836</td>\n",
              "      <td>SW:1418B06SIM800C24</td>\n",
              "      <td>None</td>\n",
              "    </tr>\n",
              "    <tr>\n",
              "      <th>5</th>\n",
              "      <td>555</td>\n",
              "      <td>P/N:S2-10686-Z1L1E;SN:MP0618452641134;IMEI:869...</td>\n",
              "      <td>P/N:S2-10686-Z1L1E</td>\n",
              "      <td>SN:MP0618452641134</td>\n",
              "      <td>IMEI:869270046522347</td>\n",
              "      <td>BTMAC:381C4A87BEA6</td>\n",
              "      <td>SW:1418B08SIM800C24_B5</td>\n",
              "    </tr>\n",
              "    <tr>\n",
              "      <th>6</th>\n",
              "      <td>895</td>\n",
              "      <td>P/N:S2-10686-Z1L1E;SN:MP0618452641134;IMEI:869...</td>\n",
              "      <td>P/N:S2-10686-Z1L1E</td>\n",
              "      <td>SN:MP0618452641134</td>\n",
              "      <td>IMEI:869970046522347</td>\n",
              "      <td>BTMAC:381C4A87BEA6</td>\n",
              "      <td>SW:1418B08SIM800C24_BT0</td>\n",
              "    </tr>\n",
              "  </tbody>\n",
              "</table>\n",
              "</div>"
            ],
            "text/plain": [
              "0 Idnumber  ...                       SW\n",
              "1      124  ...   SW:1418B08SIM800C24_BT\n",
              "2      251  ...   SW:1418B08SIM800C24_BT\n",
              "3      255  ...   SW:1418B08SIM800C24_BT\n",
              "4      988  ...                     None\n",
              "5      555  ...   SW:1418B08SIM800C24_B5\n",
              "6      895  ...  SW:1418B08SIM800C24_BT0\n",
              "\n",
              "[6 rows x 7 columns]"
            ]
          },
          "metadata": {
            "tags": []
          },
          "execution_count": 125
        }
      ]
    },
    {
      "cell_type": "code",
      "metadata": {
        "id": "gI2ZVsOyGtul"
      },
      "source": [
        "# dropping null value columns to avoid errors \r\n",
        "df.dropna(inplace = True) "
      ],
      "execution_count": null,
      "outputs": []
    },
    {
      "cell_type": "markdown",
      "metadata": {
        "id": "BOpW-m8q8TjJ"
      },
      "source": [
        "*splitting serial data into columns*"
      ]
    },
    {
      "cell_type": "code",
      "metadata": {
        "colab": {
          "base_uri": "https://localhost:8080/",
          "height": 490
        },
        "id": "uMYfyRK58Sgz",
        "outputId": "a71158dd-2044-41a0-a6a5-7868779d9364"
      },
      "source": [
        "splitDf=df\r\n",
        "#df = df[\"Serial\"].split(\";\",n=1,expand =True) \r\n",
        "#splitDf['PN'] = splitDf['Serial'].str.split(';').str[0]\r\n",
        "#splitDf['SN'] = splitDf['Serial'].str.split(';').str[1]\r\n",
        "\r\n",
        "print (splitDf)\r\n",
        "\r\n",
        "df1 = splitDf\r\n",
        "df1[['PN','SN','IMEI','BTMAC','SW']] = df['Serial'].str.split(';',expand=True)\r\n",
        "df1"
      ],
      "execution_count": null,
      "outputs": [
        {
          "output_type": "stream",
          "text": [
            "0 Idnumber  ...                IMEI\n",
            "1      124  ...  P/N:S2-10686-Z1L1E\n",
            "2      251  ...  P/N:S2-10686-Z1L1E\n",
            "3      255  ...  P/N:S2-10686-Z1L1E\n",
            "4      988  ...  P/N:S2-10686-Z1L1D\n",
            "5      555  ...  P/N:S2-10686-Z1L1E\n",
            "6      895  ...  P/N:S2-10686-Z1L1E\n",
            "\n",
            "[6 rows x 3 columns]\n"
          ],
          "name": "stdout"
        },
        {
          "output_type": "execute_result",
          "data": {
            "text/html": [
              "<div>\n",
              "<style scoped>\n",
              "    .dataframe tbody tr th:only-of-type {\n",
              "        vertical-align: middle;\n",
              "    }\n",
              "\n",
              "    .dataframe tbody tr th {\n",
              "        vertical-align: top;\n",
              "    }\n",
              "\n",
              "    .dataframe thead th {\n",
              "        text-align: right;\n",
              "    }\n",
              "</style>\n",
              "<table border=\"1\" class=\"dataframe\">\n",
              "  <thead>\n",
              "    <tr style=\"text-align: right;\">\n",
              "      <th></th>\n",
              "      <th>Idnumber</th>\n",
              "      <th>Serial</th>\n",
              "      <th>IMEI</th>\n",
              "      <th>PN</th>\n",
              "      <th>SN</th>\n",
              "      <th>BTMAC</th>\n",
              "      <th>SW</th>\n",
              "    </tr>\n",
              "  </thead>\n",
              "  <tbody>\n",
              "    <tr>\n",
              "      <th>1</th>\n",
              "      <td>124</td>\n",
              "      <td>P/N:S2-10686-Z1L1E;SN:MP061851297D10F;IMEI:867...</td>\n",
              "      <td>IMEI:867157046236543</td>\n",
              "      <td>P/N:S2-10686-Z1L1E</td>\n",
              "      <td>SN:MP061851297D10F</td>\n",
              "      <td>BTMAC:48E6C0038CF2</td>\n",
              "      <td>SW:1418B08SIM800C24_BT</td>\n",
              "    </tr>\n",
              "    <tr>\n",
              "      <th>2</th>\n",
              "      <td>251</td>\n",
              "      <td>P/N:S2-10686-Z1L1E;SN:MP061845263EF75;IMEI:869...</td>\n",
              "      <td>IMEI:869270046435953</td>\n",
              "      <td>P/N:S2-10686-Z1L1E</td>\n",
              "      <td>SN:MP061845263EF75</td>\n",
              "      <td>BTMAC:381C4A879CE7</td>\n",
              "      <td>SW:1418B08SIM800C24_BT</td>\n",
              "    </tr>\n",
              "    <tr>\n",
              "      <th>3</th>\n",
              "      <td>255</td>\n",
              "      <td>P/N:S2-10686-Z1L1E;SN:MP0618512978F71;IMEI:867...</td>\n",
              "      <td>IMEI:867157046068565</td>\n",
              "      <td>P/N:S2-10686-Z1L1E</td>\n",
              "      <td>SN:MP0618512978F71</td>\n",
              "      <td>BTMAC:48E6C0034B54</td>\n",
              "      <td>SW:1418B08SIM800C24_BT</td>\n",
              "    </tr>\n",
              "    <tr>\n",
              "      <th>4</th>\n",
              "      <td>988</td>\n",
              "      <td>P/N:S2-10686-Z1L1D;SN:MP0619132DE37D2;IMEI:862...</td>\n",
              "      <td>IMEI:862273040119836</td>\n",
              "      <td>P/N:S2-10686-Z1L1D</td>\n",
              "      <td>SN:MP0619132DE37D2</td>\n",
              "      <td>SW:1418B06SIM800C24</td>\n",
              "      <td>None</td>\n",
              "    </tr>\n",
              "    <tr>\n",
              "      <th>5</th>\n",
              "      <td>555</td>\n",
              "      <td>P/N:S2-10686-Z1L1E;SN:MP0618452641134;IMEI:869...</td>\n",
              "      <td>IMEI:869270046522347</td>\n",
              "      <td>P/N:S2-10686-Z1L1E</td>\n",
              "      <td>SN:MP0618452641134</td>\n",
              "      <td>BTMAC:381C4A87BEA6</td>\n",
              "      <td>SW:1418B08SIM800C24_B5</td>\n",
              "    </tr>\n",
              "    <tr>\n",
              "      <th>6</th>\n",
              "      <td>895</td>\n",
              "      <td>P/N:S2-10686-Z1L1E;SN:MP0618452641134;IMEI:869...</td>\n",
              "      <td>IMEI:869970046522347</td>\n",
              "      <td>P/N:S2-10686-Z1L1E</td>\n",
              "      <td>SN:MP0618452641134</td>\n",
              "      <td>BTMAC:381C4A87BEA6</td>\n",
              "      <td>SW:1418B08SIM800C24_BT0</td>\n",
              "    </tr>\n",
              "  </tbody>\n",
              "</table>\n",
              "</div>"
            ],
            "text/plain": [
              "0 Idnumber  ...                       SW\n",
              "1      124  ...   SW:1418B08SIM800C24_BT\n",
              "2      251  ...   SW:1418B08SIM800C24_BT\n",
              "3      255  ...   SW:1418B08SIM800C24_BT\n",
              "4      988  ...                     None\n",
              "5      555  ...   SW:1418B08SIM800C24_B5\n",
              "6      895  ...  SW:1418B08SIM800C24_BT0\n",
              "\n",
              "[6 rows x 7 columns]"
            ]
          },
          "metadata": {
            "tags": []
          },
          "execution_count": 127
        }
      ]
    }
  ]
}